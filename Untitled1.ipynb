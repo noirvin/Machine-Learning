{
 "cells": [
  {
   "cell_type": "code",
   "execution_count": 14,
   "metadata": {},
   "outputs": [],
   "source": [
    "def make_dictionary(data):\n",
    "    keys={}\n",
    "    for sentence in data:\n",
    "        for word in sentence.lower().split(' '):\n",
    "            if word not in keys:\n",
    "                keys[word]=1\n",
    "            keys[word]+=1\n",
    "    return keys    \n",
    "        "
   ]
  },
  {
   "cell_type": "code",
   "execution_count": 15,
   "metadata": {},
   "outputs": [],
   "source": [
    "spam_text= ['Send us your password', 'review us', 'Send your password', 'Send us your account']\n",
    "ham_text= ['Send us your review', 'review your password']"
   ]
  },
  {
   "cell_type": "code",
   "execution_count": 16,
   "metadata": {},
   "outputs": [
    {
     "name": "stdout",
     "output_type": "stream",
     "text": [
      "{'send': 4, 'us': 4, 'your': 4, 'password': 3, 'review': 2, 'account': 2}\n",
      "{'send': 2, 'us': 2, 'your': 3, 'review': 3, 'password': 2}\n"
     ]
    }
   ],
   "source": [
    "print(make_dictionary(spam_text))\n",
    "print(make_dictionary(ham_text))"
   ]
  },
  {
   "cell_type": "code",
   "execution_count": null,
   "metadata": {},
   "outputs": [],
   "source": []
  }
 ],
 "metadata": {
  "kernelspec": {
   "display_name": "Python 3",
   "language": "python",
   "name": "python3"
  },
  "language_info": {
   "codemirror_mode": {
    "name": "ipython",
    "version": 3
   },
   "file_extension": ".py",
   "mimetype": "text/x-python",
   "name": "python",
   "nbconvert_exporter": "python",
   "pygments_lexer": "ipython3",
   "version": "3.7.4"
  }
 },
 "nbformat": 4,
 "nbformat_minor": 4
}
